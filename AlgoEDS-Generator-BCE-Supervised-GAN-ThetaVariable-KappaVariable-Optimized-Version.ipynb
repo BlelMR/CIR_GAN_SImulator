{
 "cells": [
  {
   "cell_type": "code",
   "execution_count": 1,
   "id": "8fa8eba0",
   "metadata": {},
   "outputs": [
    {
     "name": "stdout",
     "output_type": "stream",
     "text": [
      "Wed Apr  5 15:12:27 2023       \n",
      "+-----------------------------------------------------------------------------+\n",
      "| NVIDIA-SMI 510.47.03    Driver Version: 510.47.03    CUDA Version: 11.6     |\n",
      "|-------------------------------+----------------------+----------------------+\n",
      "| GPU  Name        Persistence-M| Bus-Id        Disp.A | Volatile Uncorr. ECC |\n",
      "| Fan  Temp  Perf  Pwr:Usage/Cap|         Memory-Usage | GPU-Util  Compute M. |\n",
      "|                               |                      |               MIG M. |\n",
      "|===============================+======================+======================|\n",
      "|   0  NVIDIA A100 80G...  Off  | 00000000:D8:00.0 Off |                    0 |\n",
      "| N/A   39C    P0    62W / 300W |   4225MiB / 81920MiB |      0%      Default |\n",
      "|                               |                      |             Disabled |\n",
      "+-------------------------------+----------------------+----------------------+\n",
      "                                                                               \n",
      "+-----------------------------------------------------------------------------+\n",
      "| Processes:                                                                  |\n",
      "|  GPU   GI   CI        PID   Type   Process name                  GPU Memory |\n",
      "|        ID   ID                                                   Usage      |\n",
      "|=============================================================================|\n",
      "|    0   N/A  N/A   3968431      C   /usr/bin/python3.9               4223MiB |\n",
      "+-----------------------------------------------------------------------------+\n"
     ]
    }
   ],
   "source": [
    "!nvidia-smi"
   ]
  },
  {
   "cell_type": "code",
   "execution_count": 2,
   "id": "ecb53b22",
   "metadata": {},
   "outputs": [],
   "source": [
    "\n",
    "import scipy as sp\n",
    "import seaborn as sns\n",
    "\n",
    "import numpy as np\n",
    "import matplotlib.pyplot as plt\n",
    "from scipy import stats\n",
    "import pandas as pd\n",
    "import torch \n",
    "import torch.nn as nn\n",
    "import torch.nn.functional as F\n",
    "from sklearn.metrics import r2_score\n",
    "import time\n",
    "import statsmodels.distributions as smd\n",
    "import os\n",
    "\n",
    "ML = 5000 #nombre d'echantillons aléatoire\n",
    "t_init = 0\n",
    "T  = 10\n",
    "N1      = 100  # Compute N1 grid points\n",
    "N2      = 100  # Compute N2 grid points\n",
    "N3      = 100  # Compute N3 grid points\n",
    "N4      = 100  # Compute N4 grid points\n",
    "\n",
    "dt1     = float(T - t_init) / N1 # Compute dt1\n",
    "dt2     = float(T - t_init) / N2 # Compute dt2\n",
    "dt3     = float(T - t_init) / N3 # Compute dt3\n",
    "dt4     = float(T - t_init) / N4 # Compute dt4\n",
    "\n",
    "ts1    = np.arange(t_init, T, dt1) # Compute grid on [0,T] with dt1\n",
    "ts2    = np.arange(t_init, T, dt2) # Compute grid on [0,T] with dt2\n",
    "ts3    = np.arange(t_init, T, dt3) # Compute grid on [0,T] with dt3\n",
    "ts4    = np.arange(t_init, T, dt4) # Compute grid on [0,T] with dt4\n"
   ]
  },
  {
   "cell_type": "code",
   "execution_count": 3,
   "id": "9de0f869",
   "metadata": {},
   "outputs": [],
   "source": [
    "import ModuleFctAlphaa\n",
    "from ModuleFctAlphaa import *  #Fonction module\n",
    "from ModuleGeneratorDiscriminator import * #GeneratorDiscrimantor module"
   ]
  },
  {
   "cell_type": "code",
   "execution_count": 4,
   "id": "6f4392dd",
   "metadata": {},
   "outputs": [],
   "source": [
    "\n",
    "'''*********************Data set*********************'''\n",
    "\n",
    "# Data set on the couple (r,sigma), we sample 50 couples \n",
    "\n",
    "ParaFixe=np.zeros((1,2),'f')\n",
    "ParaFixe[0,0]=0.1  #Sigma parameter for the CIR model\n",
    "ParaFixe[0,1]=0.01  #Intial point for the CIR model\n",
    "\n",
    "Sig=ParaFixe[0,0]\n",
    "S00=ParaFixe[0,1] #Intial point for the CIR model\n",
    "\n",
    "Nkappa=5\n",
    "Ntheta=10\n",
    "\n",
    "Kr=np.zeros(Nkappa,'f')\n",
    "KrMax=1\n",
    "KrMin=0.1\n",
    "Disc=5\n",
    "Kr=GenerateUnidParameter(KrMax, KrMin, Nkappa, Disc)\n",
    "\n",
    "ThetaDisc=np.zeros(Ntheta,'f')\n",
    "thetaMax=1\n",
    "thetaMin=0.1\n",
    "Disc=10\n",
    "ThetaDisc=GenerateUnidParameter(thetaMax, thetaMin, Ntheta, Disc)\n",
    "Npara=Nkappa*Ntheta\n",
    "Para=FinalData(Nkappa, Ntheta, ThetaDisc, Kr)\n",
    "#print(Para)"
   ]
  },
  {
   "cell_type": "code",
   "execution_count": 5,
   "id": "ac355330",
   "metadata": {},
   "outputs": [],
   "source": [
    "#Generation of the Brwonian increments, the chi-square variables and the M CIR trajectories for different time steps\n",
    "dW11, SEXC1, CHIT1=CIRMatrix(ts1.size, ML, Sig, Para, S00, T, N1, Npara) #Function returning the ML CIR trajectories using dW11 (brownian motions) and CHIT1 (chi-square variables ) \n",
    "dW21, SEXC2, CHIT2=CIRMatrix(ts2.size, ML, Sig, Para, S00, T, N2, Npara)\n",
    "dW31, SEXC3, CHIT3=CIRMatrix(ts3.size, ML, Sig, Para, S00, T, N3, Npara)\n",
    "dW41, SEXC4, CHIT4=CIRMatrix(ts4.size, ML, Sig, Para, S00, T, N4, Npara)"
   ]
  },
  {
   "cell_type": "code",
   "execution_count": 6,
   "id": "1dbec551",
   "metadata": {},
   "outputs": [],
   "source": [
    "#Data Set prepared \n",
    "StNumMLL1=FcStNumML(ts1.size, ML, Para, Npara, dt1, SEXC1, dW11, CHIT1)  #Preparation of the data \n",
    "StNumMLL2=FcStNumML(ts2.size, ML, Para, Npara, dt2, SEXC2, dW21, CHIT2)\n",
    "StNumMLL3=FcStNumML(ts3.size, ML, Para, Npara, dt3, SEXC3, dW31, CHIT3)        \n",
    "StNumMLL4=FcStNumML(ts4.size, ML, Para, Npara, dt4, SEXC4, dW41, CHIT4)\n"
   ]
  },
  {
   "cell_type": "code",
   "execution_count": 7,
   "id": "78c66ff9",
   "metadata": {},
   "outputs": [],
   "source": [
    "#Data Set Shuffled \n",
    "StNumMLL=StNumfctOrderedShuffled(ts1.size, ts2.size, ts3.size, ts4.size, Npara, ML, StNumMLL1, StNumMLL2, StNumMLL3, StNumMLL4)"
   ]
  },
  {
   "cell_type": "code",
   "execution_count": 8,
   "id": "b888a018",
   "metadata": {},
   "outputs": [],
   "source": [
    "#Data Set preparation for the splitting phase in the train and the test sets  \n",
    "StNumPd = pd.DataFrame(data=StNumMLL[:,:]) \n",
    "dataset= StNumPd\n",
    "x= dataset.iloc[:,:-1].values #Input Data \n",
    "y= dataset.iloc[:, -1].values #Target Data \n",
    "\n",
    "from sklearn.model_selection import train_test_split\n",
    "X_train, X_test, Y_train, Y_test= train_test_split(x, y, test_size=0.2, random_state= 0) #Splitting data\n",
    "Ntrain=Y_train.size  #Size of the training set\n",
    "\n"
   ]
  },
  {
   "cell_type": "code",
   "execution_count": 9,
   "id": "d5475458",
   "metadata": {},
   "outputs": [],
   "source": [
    "\n",
    "'''Networks'''\n",
    "\n",
    "#Generator Network\n",
    "NetworkG = Generator(input_neurons = 6, hidden_neurons = 200, output_neurons = 1)\n",
    "\n",
    "#Discriminator Network\n",
    "NetworkD = Discriminator(input_neurons = 7, hidden_neurons = 200, output_neurons = 1)\n",
    "\n",
    "'''Optimizers'''\n",
    "\n",
    "#Generator optimizer Network\n",
    "optimizerG = torch.optim.Adam(NetworkG.parameters(), lr=0.0001, betas=(0.5, 0.999))\n",
    "#Discriminator optimizer Network\n",
    "optimizerD = torch.optim.Adam(NetworkD.parameters(), lr=0.0001, betas=(0.5, 0.999))\n",
    "\n",
    "'''Loss function'''\n",
    "#Binary Cross Entropy, BCE, Loss\n",
    "loss_function = torch.nn.BCELoss()\n",
    " "
   ]
  },
  {
   "cell_type": "code",
   "execution_count": 23,
   "id": "95ba2e24",
   "metadata": {},
   "outputs": [],
   "source": [
    "'''************************Training phase*************************'''\n",
    "\n",
    "batche_size=1000   #Batch size \n",
    "XYtrain = torch.as_tensor(np.c_[(X_train, Y_train.reshape(-1,1))])\n",
    "Y0=torch.zeros(batche_size)\n",
    "Y1=torch.ones(batche_size)\n",
    "X_train_mini=torch.empty(batche_size, 6)\n",
    "Y_train_mini=torch.empty(batche_size, 1)\n",
    "\n",
    "Err_Proba=torch.zeros(0)   #Estimated Probability of having a fake sample \n",
    "Err_Descri=torch.zeros(0)  #Discrimnator array loss \n",
    "#Arrays that will be needed for savving the most important generators\n",
    "Err_Genera=torch.zeros(0) #Generator array Loss\n",
    "EpochTab=torch.zeros(0)  #Array that contains epoch number \n",
    "Mini_batchesTab=torch.zeros(0) #Array that contains minibatch number \n",
    "\n",
    "NetworkG.train()\n",
    "NetworkD.train()\n",
    "#Learning Phase\n",
    "for epoch in range(3):\n",
    "    for mini_batches in range(int(Ntrain/batche_size)):\n",
    "        #MiniBatch data\n",
    "        X_train_mini.copy_(torch.as_tensor(XYtrain[mini_batches*batche_size:(mini_batches+1)*batche_size,:-1]))\n",
    "        Y_train_mini.copy_(torch.as_tensor(XYtrain[mini_batches*batche_size:(mini_batches+1)*batche_size,-1:]))\n",
    "        #Generator output \n",
    "        Generator_out = NetworkG(X_train_mini)\n",
    "        #Discriminator fake input \n",
    "        Generator_Descriminator_fake_in=torch.cat((X_train_mini, Generator_out), dim=1) \n",
    "        #Discriminator fake ouput \n",
    "        Generator_Descriminator_out = NetworkD(Generator_Descriminator_fake_in)\n",
    "        #Genrator term in the loss function to minimize  \n",
    "        Generator_loss = -torch.log(Generator_Descriminator_out[:,0]).mean()\n",
    "        #Genrator network optimizer initialization\n",
    "        optimizerG.zero_grad()\n",
    "        #Genrator network backpropagation\n",
    "        Generator_loss.backward()\n",
    "        #Genrator network parameters update\n",
    "        optimizerG.step()\n",
    "        #Discriminator real input \n",
    "        Generator_Descriminator_real_in = torch.cat(( X_train_mini, Y_train_mini.view(-1,1)), dim=1)\n",
    "        #Revaluation Generator output \n",
    "        Generator_out=NetworkG(X_train_mini)\n",
    "        #Discrimnator fake input with new revaluation \n",
    "        Generator_Descriminator_fake_in=torch.cat((X_train_mini, Generator_out.detach()), dim=1)\n",
    "        \n",
    "        for epoch2 in range(1):\n",
    "            \n",
    "            #Discriminator real output \n",
    "            Descriminator_real = NetworkD(Generator_Descriminator_real_in)\n",
    "            #Second term in the BCE loss function \n",
    "            Descriminator_loss_1 = loss_function(Descriminator_real[:,0], Y1)\n",
    "            #Discriminator fake output \n",
    "            Generator_Descriminator_out = NetworkD(Generator_Descriminator_fake_in)\n",
    "            #Third term in the BCE loss function \n",
    "            Descriminator_loss_2 = loss_function(Generator_Descriminator_out[:,0], Y0)\n",
    "            #Discriminator Loss estimated function to minimize\n",
    "            Descriminator_loss = Descriminator_loss_1+Descriminator_loss_2\n",
    "            #Discriminator network optimizer initialization\n",
    "            optimizerD.zero_grad()\n",
    "            #Discriminator network backpropagation        \n",
    "            Descriminator_loss.backward()\n",
    "            #Discriminator network parameters update\n",
    "            optimizerD.step()  \n",
    "        '''\n",
    "        print('Probability of success=',Generator_Descriminator_out.mean(),'%')\n",
    "        print('Error Discriminator=',Descriminator_loss)\n",
    "        print('Error Generator=',Generator_loss)\n",
    "        print('Epoch=',epoch)\n",
    "        '''\n",
    "        GDmTorch=torch.zeros(1)\n",
    "        DescriTorch=torch.zeros(1)\n",
    "        GeneraTorch=torch.zeros(1)\n",
    "        \n",
    "        GDmTorch[0]=Generator_Descriminator_out.mean().detach()\n",
    "        DescriTorch[0]=Descriminator_loss.detach()\n",
    "        GeneraTorch[0]=Generator_loss.detach()\n",
    "        Err_Proba=torch.cat((Err_Proba, GDmTorch), dim=0)   \n",
    "        Err_Descri=torch.cat((Err_Descri, DescriTorch), dim=0)\n",
    "        Err_Genera=torch.cat((Err_Genera, GeneraTorch), dim=0)\n",
    "        \n",
    "        #Save important models \n",
    "        '''\n",
    "        if (epoch >15) & (0.4997<GDmTorch[0]<0.5001):\n",
    "            last_model_wts = NetworkG.state_dict()\n",
    "            save_network(NetworkG, epoch, mini_batches)\n",
    "            Epochh=torch.zeros(1)\n",
    "            Epochh[0]=(torch.as_tensor(epoch))\n",
    "            EpochTab=torch.cat((EpochTab, Epochh), dim=0)\n",
    "            Mini=torch.zeros(1)\n",
    "            Mini[0]=(torch.as_tensor(mini_batches))   \n",
    "            Mini_batchesTab=torch.cat((Mini_batchesTab, Mini), dim=0)\n",
    "        '''"
   ]
  },
  {
   "cell_type": "code",
   "execution_count": 24,
   "id": "c869c368",
   "metadata": {},
   "outputs": [
    {
     "data": {
      "text/plain": [
       "<matplotlib.legend.Legend at 0x7f6f0a05aa90>"
      ]
     },
     "execution_count": 24,
     "metadata": {},
     "output_type": "execute_result"
    },
    {
     "data": {
      "image/png": "[encoded data removed]",
      "text/plain": [
       "<Figure size 432x288 with 1 Axes>"
      ]
     },
     "metadata": {
      "needs_background": "light"
     },
     "output_type": "display_data"
    }
   ],
   "source": [
    "#Convergence Discriminator fake output\n",
    "plt.plot( Err_Proba,'black', label='Discriminator fake output') \n",
    "# naming of x-axis and y-axis\n",
    "plt.xlabel(\"Number of iterations\")\n",
    "plt.ylabel(\"Discriminator fake ouput\")\n",
    " \n",
    "# naming the title of the plot\n",
    "plt.title(\"Discriminator fake ouput\")\n",
    "plt.legend()"
   ]
  },
  {
   "cell_type": "code",
   "execution_count": 30,
   "id": "ef59aead",
   "metadata": {},
   "outputs": [],
   "source": [
    "                            \"\"\"Test-Phase\"\"\"\n",
    "'''CIR test Model '''\n",
    "#We use here different test trajectories than those already prepared to have a control on the parameters, it doesn't change anything\n",
    "ML=10000   #Number of trajectories for the test phase\n",
    "theta=0.3  #Theta parameter for the test phase\n",
    "kappa=0.3  #Kappa parameter for the test phase\n",
    "N1=100 \n",
    "\n",
    "S0=(S00)*np.ones(ML,dtype=np.float32)\n",
    "SexcT, dW, chiTest11 = CIR_generate_paths_testCase(S0, kappa, theta, Sig, T, N1, ML) #Generation of the CIR test trajectories \n",
    "StNumMLLt=FctNumMltest(ts1.size, ML, theta, kappa, dt1, SexcT, dW, chiTest11) #Data preparation"
   ]
  },
  {
   "cell_type": "code",
   "execution_count": 31,
   "id": "5ca0d40e",
   "metadata": {},
   "outputs": [],
   "source": [
    "batchesize=100\n",
    "loss_function2= torch.nn.MSELoss()  #Mean square Loss function\n",
    "StNumPd = pd.DataFrame(data=StNumMLLt[:,:]) \n",
    "dataset= StNumPd\n",
    "x= dataset.iloc[:,:-1].values\n",
    "y= dataset.iloc[:, -1].values\n",
    "from sklearn.model_selection import train_test_split\n",
    "X_train, X_test, Y_train, Y_test= train_test_split(x, y, test_size=0.5, random_state= 0)\n",
    "\n"
   ]
  },
  {
   "cell_type": "code",
   "execution_count": 32,
   "id": "985ee5e7",
   "metadata": {},
   "outputs": [
    {
     "data": {
      "text/plain": [
       "Generator(\n",
       "  (hidden): Linear(in_features=6, out_features=200, bias=True)\n",
       "  (hiddenM1): Linear(in_features=200, out_features=200, bias=True)\n",
       "  (hiddenM2): Linear(in_features=200, out_features=200, bias=True)\n",
       "  (hiddenM3): Linear(in_features=200, out_features=200, bias=True)\n",
       "  (Activ): LeakyReLU(negative_slope=0.1)\n",
       "  (bach1): BatchNorm1d(6, eps=1e-05, momentum=0.1, affine=True, track_running_stats=True)\n",
       "  (bach2): BatchNorm1d(200, eps=1e-05, momentum=0.1, affine=True, track_running_stats=True)\n",
       "  (bach3): BatchNorm1d(200, eps=1e-05, momentum=0.1, affine=True, track_running_stats=True)\n",
       "  (bach4): BatchNorm1d(200, eps=1e-05, momentum=0.1, affine=True, track_running_stats=True)\n",
       "  (bach5): BatchNorm1d(200, eps=1e-05, momentum=0.1, affine=True, track_running_stats=True)\n",
       "  (out): Linear(in_features=200, out_features=1, bias=True)\n",
       ")"
      ]
     },
     "execution_count": 32,
     "metadata": {},
     "output_type": "execute_result"
    }
   ],
   "source": [
    "\"\"\"Choice of the generator for the test phase\"\"\"\n",
    "#Here we can choose one of the saved generator by adding the Id Generator parametrized by its minibatch and epoch number \n",
    "#for l in range(EpochTab.size()[0]):\n",
    "    #PATH=\"./SavedModels102/net_{}_{}.pth\".format(int(EpochTab[l]) , int(Mini_batchesTab[l])) #We can do it manually \n",
    "PATH=\"./SavedModels102/net_G_theta_kappa.pth\"#To be changed with your Id genrator \n",
    "checkpoint = torch.load(PATH)\n",
    "NetworkG.load_state_dict(checkpoint)\n",
    "NetworkG.eval()\n"
   ]
  },
  {
   "cell_type": "code",
   "execution_count": 33,
   "id": "d23ac4f6",
   "metadata": {},
   "outputs": [],
   "source": [
    "\"\"\"CIR Generator\"\"\"\n",
    "#Here we take the last generator obtained from the training phase \n",
    "Ntest=Y_test.size\n",
    "X_test_torch=torch.zeros(Ntest, 6)\n",
    "X_test_torch.copy_(torch.as_tensor(X_test))\n",
    "Generator_test_full=torch.zeros((Ntest))\n",
    "X_test_full=X_test_torch[0,:]\n",
    "MLi=4\n",
    "NSt=10**4\n",
    "for j in range(MLi):\n",
    "    for i in range(NSt+1):\n",
    "              Generator_test_full[i+j*(NSt+1)] = abs(NetworkG(X_test_full)*theta+theta)\n",
    "              X_test_torch[i+1+j*(NSt+1),0]=Generator_test_full[i+j*(NSt+1)]\n",
    "              X_test_full = X_test_torch[i+1+j*(NSt+1),:]\n"
   ]
  },
  {
   "cell_type": "code",
   "execution_count": 34,
   "id": "06b763d1",
   "metadata": {},
   "outputs": [
    {
     "name": "stdout",
     "output_type": "stream",
     "text": [
      "R2= 0.9727747802174989\n",
      "Relative Mean square Error= 8.684512715656442 %\n"
     ]
    }
   ],
   "source": [
    "                                \"\"\"Results\"\"\" \n",
    "    \n",
    "                                #R2_score value\n",
    "print(\"R2=\",r2_score(Y_test[:40000],(Generator_test_full[:40000]).detach().cpu().numpy()))\n",
    "                        #Relative mean square error in percent \n",
    "RelErrL2=np.zeros(1)\n",
    "Y_test_torch=torch.zeros(Ntest)\n",
    "Y_test_torch.copy_(torch.as_tensor(Y_test))\n",
    "N=20000\n",
    "r=0\n",
    "for i in range(N):\n",
    "    if Y_test_torch[i]!=0 : \n",
    "        r=r+((Y_test_torch[i]-Generator_test_full[i])/Y_test_torch[i])**2\n",
    "RelErrL2=(np.sqrt(r.detach().cpu().numpy()/N))*100\n",
    "print(\"Relative Mean square Error=\", RelErrL2,\"%\")\n",
    "\n"
   ]
  },
  {
   "cell_type": "code",
   "execution_count": 35,
   "id": "3887815d",
   "metadata": {},
   "outputs": [
    {
     "data": {
      "text/plain": [
       "<matplotlib.legend.Legend at 0x7f6f0a01bfd0>"
      ]
     },
     "execution_count": 35,
     "metadata": {},
     "output_type": "execute_result"
    },
    {
     "data": {
      "image/png": "[encoded data removed]",
      "text/plain": [
       "<Figure size 432x288 with 1 Axes>"
      ]
     },
     "metadata": {
      "needs_background": "light"
     },
     "output_type": "display_data"
    }
   ],
   "source": [
    "            #Empirical conditional Distributions, real and fake \n",
    "sns.histplot((Generator_test_full[:40000]).detach().cpu().numpy(), label = 'pred', kde=True, stat=\"density\")\n",
    "sns.histplot(Y_test[:40000],  label = 'true' , kde=True, stat=\"density\")\n",
    "plt.legend()\n",
    " "
   ]
  },
  {
   "cell_type": "code",
   "execution_count": 36,
   "id": "48f5d37f",
   "metadata": {},
   "outputs": [
    {
     "data": {
      "image/png": "[encoded data removed]",
      "text/plain": [
       "<Figure size 432x288 with 1 Axes>"
      ]
     },
     "metadata": {
      "needs_background": "light"
     },
     "output_type": "display_data"
    }
   ],
   "source": [
    "                   #Plot some trajectories \n",
    "dt=0.1\n",
    "T=10\n",
    "Tin=0\n",
    "x = np.arange(Tin, T, dt)\n",
    "i=2 #We can change this to see different trajectories \n",
    "Nt=int((T-Tin)/dt)\n",
    "plt.plot(x, Generator_test_full.detach().cpu().numpy()[i*Nt:(i+1)*Nt],'black', label = 'pred')\n",
    "plt.plot(x, Y_test[i*Nt:(i+1)*Nt],'red', label = 'real')\n",
    "# naming of x-axis and y-axis\n",
    "plt.xlabel(\"Time\")\n",
    "plt.ylabel(\"CIR Trajectories\")\n",
    "# naming the title of the plot\n",
    "plt.title(\"fake and real Trajectories\")\n",
    "plt.legend()\n",
    "plt.show()"
   ]
  },
  {
   "cell_type": "markdown",
   "id": "17e181af",
   "metadata": {},
   "source": [
    "                    \"\"\"End of the algorithm, thank you\"\"\""
   ]
  }
 ],
 "metadata": {
  "kernelspec": {
   "display_name": "Python 3 (ipykernel)",
   "language": "python",
   "name": "python3"
  },
  "language_info": {
   "codemirror_mode": {
    "name": "ipython",
    "version": 3
   },
   "file_extension": ".py",
   "mimetype": "text/x-python",
   "name": "python",
   "nbconvert_exporter": "python",
   "pygments_lexer": "ipython3",
   "version": "3.9.12"
  }
 },
 "nbformat": 4,
 "nbformat_minor": 5
}
